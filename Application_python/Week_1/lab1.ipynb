{
 "cells": [
  {
   "cell_type": "code",
   "execution_count": 3,
   "metadata": {},
   "outputs": [
    {
     "name": "stdout",
     "output_type": "stream",
     "text": [
      "รวมเป็นเงิน 25 บาท\n"
     ]
    }
   ],
   "source": [
    "def buyStamp(): # สร้างฟังก์ชัน buyStamp()\n",
    "    income = int(input(\"Input your money: \")) # รับค่าเงินที่มี\n",
    "    stamp = int(input(\"Input the number of stamps you want to buy: \"))     # รับค่าจำนวนสแตมป์ที่ต้องการซื้อ\n",
    "    totalStamp = stamp * 25     # คำนวณราคาสแตมป์ทั้งหมด\n",
    "    print(\"รวมเป็นเงิน\", totalStamp, \"บาท\")     # แสดงผลราคาสแตมป์ทั้งหมด\n",
    "    result = income - totalStamp # คำนวณเงินทอน\n",
    "    if result < 0: # ถ้าเงินทอนน้อยกว่า 0\n",
    "        print(\"เงินไม่พอ ซื้อได้\", income // 25, \"ดวง เป็นเงิน\", (income // 25) * 25, \"บาท\") # แสดงผลเงินที่ซื้อได้\n",
    "        if income - (((income // 25) * 25) < 0): # ถ้าเงินที่มีน้อยกว่าราคาสแตมป์ที่ซื้อได้\n",
    "            print(\"ไม่มีเงินทอน\\nไม่มีทิปให้พนักงาน\") # แสดงผล\n",
    "    elif result > 0: # ถ้าเงินทอนมากกว่า 0\n",
    "        print(\"ได้เงินทอนมาเป็น\") # แสดงผล\n",
    "        for bath in [500, 100, 50, 20, 10]: # วนลูปเงินทอน\n",
    "            if result >= bath: # ถ้าเงินทอนมากกว่าหรือเท่ากับเงินที่ต้องการ\n",
    "                count = result // bath # หาจำนวนธนบัตรที่ต้องใช้\n",
    "                print(\"ธนบัตรใบละ \", bath, \" x \", count) # แสดงผล\n",
    "                result -= count * bath # คำนวณเงินทอนที่เหลือ\n",
    "        if result > 0: # ถ้าเงินทอนมากกว่า 0\n",
    "             print(\"ให้ทิปพนักงาน\", result, \"บาท\") # แสดงผล\n",
    "        else: # ถ้าเงินทอนน้อยกว่า 0\n",
    "            print(\"ไม่มีทิปให้พนักงาน\") # แสดงผล\n",
    "    else: # ถ้าเงินทอนเท่ากับ 0\n",
    "        print(\"ไม่มีทิปให้พนักงาน\") # แสดงผล\n",
    "\n",
    "buyStamp()\n"
   ]
  }
 ],
 "metadata": {
  "kernelspec": {
   "display_name": "Python 3",
   "language": "python",
   "name": "python3"
  },
  "language_info": {
   "codemirror_mode": {
    "name": "ipython",
    "version": 3
   },
   "file_extension": ".py",
   "mimetype": "text/x-python",
   "name": "python",
   "nbconvert_exporter": "python",
   "pygments_lexer": "ipython3",
   "version": "3.11.4"
  },
  "orig_nbformat": 4
 },
 "nbformat": 4,
 "nbformat_minor": 2
}
