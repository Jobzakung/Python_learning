{
 "cells": [
  {
   "cell_type": "code",
   "execution_count": 28,
   "metadata": {},
   "outputs": [
    {
     "name": "stderr",
     "output_type": "stream",
     "text": [
      "\n",
      "image 1/1 d:\\dip\\newenv\\workshop\\openimages\\monkey\\images\\train\\0086ed9dad8d0903.jpg: 384x640 1 Monkey, 59.8ms\n",
      "Speed: 1.0ms preprocess, 59.8ms inference, 0.0ms postprocess per image at shape (1, 3, 384, 640)\n"
     ]
    }
   ],
   "source": [
    "from ultralytics import YOLO\n",
    "model = YOLO('./runs/detect/train222/weights/last.pt')\n",
    "imgsrc = './openimages/monkey/images/train/0086ed9dad8d0903.jpg'\n",
    "result = model.predict(source=imgsrc, conf=0.50)"
   ]
  },
  {
   "cell_type": "code",
   "execution_count": 29,
   "metadata": {},
   "outputs": [
    {
     "name": "stdout",
     "output_type": "stream",
     "text": [
      "index =  2.0, label =  Monkey\n",
      "[480.93621826171875, 107.3797836303711, 816.08935546875, 549.9990234375]\n"
     ]
    }
   ],
   "source": [
    "import cv2\n",
    "myimage = cv2.imread(imgsrc)\n",
    "info = result[0].boxes\n",
    "for box in info:\n",
    "    class_name = result[0].names[box.cls[0].item()]\n",
    "    conf = box.conf[0].item()\n",
    "    print('index = ',box.cls[0].item(),end=\", \")\n",
    "    print('label = ',result[0].names[box.cls[0].item()])\n",
    "    print(box.xyxy[0].tolist())\n",
    "    coor = box.xyxy[0].tolist()\n",
    "    coor = [round(x) for x in coor]\n",
    "    text = f\"{class_name}{conf:0.2f}\"\n",
    "    myimage = cv2.putText(myimage,text,(coor[0]+5,coor[1]+15),cv2.FONT_HERSHEY_SIMPLEX,0.5,(255,255,255),1,cv2.LINE_AA)\n",
    "    myimage = cv2.rectangle(myimage,(coor[0],coor[1]),(coor[2],coor[3]),(255,255,0),2)\n",
    "\n",
    "myimage = cv2.putText(myimage,imgsrc,(10,10),cv2.FONT_HERSHEY_SIMPLEX,0.25,(255,255,0),1,cv2.LINE_AA)\n",
    "cv2.imshow('predict', myimage)\n",
    "cv2.waitKey(0)\n",
    "cv2.destroyAllWindows()"
   ]
  }
 ],
 "metadata": {
  "kernelspec": {
   "display_name": "newenv",
   "language": "python",
   "name": "python3"
  },
  "language_info": {
   "codemirror_mode": {
    "name": "ipython",
    "version": 3
   },
   "file_extension": ".py",
   "mimetype": "text/x-python",
   "name": "python",
   "nbconvert_exporter": "python",
   "pygments_lexer": "ipython3",
   "version": "3.10.6"
  }
 },
 "nbformat": 4,
 "nbformat_minor": 2
}
