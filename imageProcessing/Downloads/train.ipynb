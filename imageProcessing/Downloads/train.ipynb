{
 "cells": [
  {
   "cell_type": "code",
   "execution_count": null,
   "metadata": {},
   "outputs": [],
   "source": [
    "# !pip install ultralytics"
   ]
  },
  {
   "cell_type": "code",
   "execution_count": 1,
   "metadata": {},
   "outputs": [
    {
     "name": "stderr",
     "output_type": "stream",
     "text": [
      "Ultralytics YOLOv8.0.200 🚀 Python-3.11.3 torch-2.1.0 CPU (Apple M1)\n",
      "Setup complete ✅ (8 CPUs, 16.0 GB RAM, 133.1/228.3 GB disk)\n"
     ]
    }
   ],
   "source": [
    "import ultralytics\n",
    "from ultralytics import YOLO\n",
    "ultralytics.checks()"
   ]
  },
  {
   "cell_type": "code",
   "execution_count": null,
   "metadata": {},
   "outputs": [],
   "source": [
    "model = YOLO('yolov8n.pt')\n",
    "imgsrc = '../download/cat/images/0008ab3d8674f6ca.jpg'\n",
    "result = model.predict(source=imgsrc, conf=0.25 )"
   ]
  },
  {
   "cell_type": "code",
   "execution_count": null,
   "metadata": {},
   "outputs": [],
   "source": [
    "# # print(result[0])\n",
    "# print(result[0].names)\n",
    "# info = result[0].boxes\n",
    "# print('index = ',info.cls[0].item())\n",
    "# print('label = ',result[0].names[info.cls[0].item])\n",
    "# print(info.xyxy[0].tolist())\n",
    "# print('Confidence = ',info.conf[0].item())"
   ]
  },
  {
   "cell_type": "code",
   "execution_count": null,
   "metadata": {},
   "outputs": [],
   "source": [
    "# from openimages.download import download_images\n",
    "# download_images('./openimages',['Goose','Lion','Monkey','Panda'],'exclusions.txt',limit=25)"
   ]
  },
  {
   "cell_type": "code",
   "execution_count": null,
   "metadata": {},
   "outputs": [],
   "source": [
    "tr_result = model.train(data='./train.yaml',\n",
    "                        imgsz=640,\n",
    "                        model='./runs/detect/train2/weights/best.pt',\n",
    "                        epochs=10,\n",
    "                        batch=2)"
   ]
  },
  {
   "cell_type": "code",
   "execution_count": null,
   "metadata": {},
   "outputs": [],
   "source": [
    "model = YOLO('./runs/detect/train222/weights/best.pt')\n",
    "imgsrc = './data/images/0325bc69-173a992d5facc22b.jpg'\n",
    "result = model.predict(source=imgsrc, conf=0.25)"
   ]
  }
 ],
 "metadata": {
  "kernelspec": {
   "display_name": "newenv",
   "language": "python",
   "name": "python3"
  },
  "language_info": {
   "codemirror_mode": {
    "name": "ipython",
    "version": 3
   },
   "file_extension": ".py",
   "mimetype": "text/x-python",
   "name": "python",
   "nbconvert_exporter": "python",
   "pygments_lexer": "ipython3",
   "version": "3.11.3"
  }
 },
 "nbformat": 4,
 "nbformat_minor": 2
}
