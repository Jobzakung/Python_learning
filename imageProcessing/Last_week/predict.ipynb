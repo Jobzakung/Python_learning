{
 "cells": [
  {
   "cell_type": "code",
   "execution_count": null,
   "metadata": {},
   "outputs": [],
   "source": [
    "from ultralytics import YOLO\n",
    "import cv2 as cv\n",
    "import matplotlib.pyplot as plt\n",
    "import numpy as np\n",
    "\n",
    "model = YOLO('/Users/sukird/Python_learning/imageProcessing/Last_week/runs/segment/train/weights/best.pt')\n",
    "\n",
    "image = '/Users/sukird/Python_learning/imageProcessing/Last_week/dataset/images/'\n",
    "\n",
    "img = cv.imread(image)\n",
    "results = model.predict(image, save = True, conf=0.25)\n"
   ]
  },
  {
   "cell_type": "code",
   "execution_count": null,
   "metadata": {},
   "outputs": [],
   "source": [
    "mask = results[0].masks.xy\n",
    "overlay = img.copy()\n",
    "mbox = results[0]\n",
    "\n",
    "for box in mbox.boxes:\n",
    "    class_id = mbox. names[box.cls[0].item()]\n",
    "    cords = box.xyxy[0].tolist()\n",
    "    cords = [round(x) for x in cords]\n",
    "    conf = round (box.conf[0].item(), 2)\n",
    "    display = f' {class_id} {conf}%'\n",
    "    #ทำนายผล\n",
    "    image = cv. putText(img, display, (cords[0], cords[1]-10),cv. FONT_HERSHEY_SIMPLEX, 0.5, (255, 255, 255), 1, cv.LINE_AA)\n",
    "    image = cv. rectangle(image, (cords[0], cords[1]), (cords[2], cords[3]), (255,255,0), 2)\n",
    "    #วาด Polygon\n",
    "for i in range(len(mask)):\n",
    "    x = mask[i].astype (int)\n",
    "    pts = x. reshape ((-1, 1, 2))\n",
    "    image = cv.polylines(image, [pts],isClosed=True, color=(0,0,255), thickness=2)\n",
    "    overlay = cv.fillPoly(overlay, pts=[pts], color=(0,0,225))\n",
    "alpha = 0.4\n",
    "image = cv.addWeighted(overlay, alpha, image, 1 - alpha, 0)\n",
    "r = 600.0 / image.shape[1]\n",
    "dim = (600, int (image.shape[0] * r))\n",
    "# perform the actual resizing of the image\n",
    "resized = cv.resize(image, dim, interpolation=cv.INTER_AREA)\n",
    "cv.imshow('Marked Image', resized)\n",
    "cv.waitKey (0)\n",
    "cv.destroyAllWindows ()"
   ]
  },
  {
   "cell_type": "code",
   "execution_count": 9,
   "metadata": {},
   "outputs": [
    {
     "name": "stderr",
     "output_type": "stream",
     "text": [
      "\n",
      "image 1/1 /Users/sukird/Python_learning/imageProcessing/Last_week/dataset/images/0da7a914-IMG_8425.jpeg: 640x480 1 dog, 107.6ms\n",
      "Speed: 4.0ms preprocess, 107.6ms inference, 1.7ms postprocess per image at shape (1, 3, 640, 480)\n"
     ]
    },
    {
     "ename": "AttributeError",
     "evalue": "'list' object has no attribute 'pred'",
     "output_type": "error",
     "traceback": [
      "\u001b[0;31m---------------------------------------------------------------------------\u001b[0m",
      "\u001b[0;31mAttributeError\u001b[0m                            Traceback (most recent call last)",
      "\u001b[1;32m/Users/sukird/Python_learning/imageProcessing/Last_week/predict.ipynb Cell 3\u001b[0m line \u001b[0;36m1\n\u001b[1;32m     <a href='vscode-notebook-cell:/Users/sukird/Python_learning/imageProcessing/Last_week/predict.ipynb#W2sZmlsZQ%3D%3D?line=9'>10</a>\u001b[0m results \u001b[39m=\u001b[39m model(image_path)\n\u001b[1;32m     <a href='vscode-notebook-cell:/Users/sukird/Python_learning/imageProcessing/Last_week/predict.ipynb#W2sZmlsZQ%3D%3D?line=11'>12</a>\u001b[0m \u001b[39m# Print the results\u001b[39;00m\n\u001b[0;32m---> <a href='vscode-notebook-cell:/Users/sukird/Python_learning/imageProcessing/Last_week/predict.ipynb#W2sZmlsZQ%3D%3D?line=12'>13</a>\u001b[0m \u001b[39mfor\u001b[39;00m detection \u001b[39min\u001b[39;00m results\u001b[39m.\u001b[39;49mpred[\u001b[39m0\u001b[39m]:\n\u001b[1;32m     <a href='vscode-notebook-cell:/Users/sukird/Python_learning/imageProcessing/Last_week/predict.ipynb#W2sZmlsZQ%3D%3D?line=13'>14</a>\u001b[0m     class_name \u001b[39m=\u001b[39m model\u001b[39m.\u001b[39mnames[detection[\u001b[39m5\u001b[39m]]\n\u001b[1;32m     <a href='vscode-notebook-cell:/Users/sukird/Python_learning/imageProcessing/Last_week/predict.ipynb#W2sZmlsZQ%3D%3D?line=14'>15</a>\u001b[0m     confidence \u001b[39m=\u001b[39m detection[\u001b[39m4\u001b[39m]\n",
      "\u001b[0;31mAttributeError\u001b[0m: 'list' object has no attribute 'pred'"
     ]
    }
   ],
   "source": [
    "from ultralytics import YOLO\n",
    "\n",
    "# Initialize the YOLO model with the path to the pre-trained weights\n",
    "model = YOLO('/Users/sukird/Python_learning/imageProcessing/Last_week/runs/segment/train/weights/best.pt')\n",
    "\n",
    "# Path to the image you want to process\n",
    "image_path = '/Users/sukird/Python_learning/imageProcessing/Last_week/dataset/images/0da7a914-IMG_8425.jpeg'\n",
    "\n",
    "# Make predictions on the image\n",
    "results = model(image_path)\n",
    "\n",
    "# Print the results\n",
    "for detection in results.pred[0]:\n",
    "    class_name = model.names[detection[5]]\n",
    "    confidence = detection[4]\n",
    "    bbox = detection[:4]\n",
    "    print(f\"Class: {class_name}, Confidence: {confidence:.2f}, Bbox: {bbox}\")\n"
   ]
  }
 ],
 "metadata": {
  "kernelspec": {
   "display_name": "Python 3",
   "language": "python",
   "name": "python3"
  },
  "language_info": {
   "codemirror_mode": {
    "name": "ipython",
    "version": 3
   },
   "file_extension": ".py",
   "mimetype": "text/x-python",
   "name": "python",
   "nbconvert_exporter": "python",
   "pygments_lexer": "ipython3",
   "version": "3.11.3"
  }
 },
 "nbformat": 4,
 "nbformat_minor": 2
}
