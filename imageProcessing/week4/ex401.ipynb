{
 "cells": [
  {
   "cell_type": "code",
   "execution_count": 3,
   "id": "530d7444",
   "metadata": {},
   "outputs": [
    {
     "ename": "KeyError",
     "evalue": "'fiqure.dpi is not a valid rc parameter (see rcParams.keys() for a list of valid parameters)'",
     "output_type": "error",
     "traceback": [
      "\u001b[0;31m---------------------------------------------------------------------------\u001b[0m",
      "\u001b[0;31mKeyError\u001b[0m                                  Traceback (most recent call last)",
      "File \u001b[0;32m/Library/Frameworks/Python.framework/Versions/3.11/lib/python3.11/site-packages/matplotlib/__init__.py:720\u001b[0m, in \u001b[0;36mRcParams.__setitem__\u001b[0;34m(self, key, val)\u001b[0m\n\u001b[1;32m    719\u001b[0m \u001b[39mtry\u001b[39;00m:\n\u001b[0;32m--> 720\u001b[0m     cval \u001b[39m=\u001b[39m \u001b[39mself\u001b[39;49m\u001b[39m.\u001b[39;49mvalidate[key](val)\n\u001b[1;32m    721\u001b[0m \u001b[39mexcept\u001b[39;00m \u001b[39mValueError\u001b[39;00m \u001b[39mas\u001b[39;00m ve:\n",
      "\u001b[0;31mKeyError\u001b[0m: 'fiqure.dpi'",
      "\nThe above exception was the direct cause of the following exception:\n",
      "\u001b[0;31mKeyError\u001b[0m                                  Traceback (most recent call last)",
      "Cell \u001b[0;32mIn[3], line 6\u001b[0m\n\u001b[1;32m      2\u001b[0m \u001b[39mimport\u001b[39;00m \u001b[39mnumpy\u001b[39;00m \u001b[39mas\u001b[39;00m \u001b[39mnp\u001b[39;00m\n\u001b[1;32m      3\u001b[0m \u001b[39mimport\u001b[39;00m \u001b[39mmatplotlib\u001b[39;00m\u001b[39m.\u001b[39;00m\u001b[39mpyplot\u001b[39;00m \u001b[39mas\u001b[39;00m \u001b[39mplt\u001b[39;00m\n\u001b[0;32m----> 6\u001b[0m plt\u001b[39m.\u001b[39;49mrcParams[\u001b[39m'\u001b[39;49m\u001b[39mfiqure.dpi\u001b[39;49m\u001b[39m'\u001b[39;49m] \u001b[39m=\u001b[39m \u001b[39m250\u001b[39m\n\u001b[1;32m      7\u001b[0m plt\u001b[39m.\u001b[39mrcParams[\u001b[39m'\u001b[39m\u001b[39mfiqure.figsize\u001b[39m\u001b[39m'\u001b[39m]\u001b[39m=\u001b[39m[\u001b[39m20\u001b[39m,\u001b[39m20\u001b[39m]\n\u001b[1;32m      9\u001b[0m plt\u001b[39m.\u001b[39mfigure(figsize\u001b[39m=\u001b[39m(\u001b[39m6.4\u001b[39m\u001b[39m*\u001b[39m\u001b[39m5\u001b[39m, \u001b[39m4.8\u001b[39m\u001b[39m*\u001b[39m\u001b[39m5\u001b[39m), constrained_layout\u001b[39m=\u001b[39m\u001b[39mFalse\u001b[39;00m)\n",
      "File \u001b[0;32m/Library/Frameworks/Python.framework/Versions/3.11/lib/python3.11/site-packages/matplotlib/__init__.py:725\u001b[0m, in \u001b[0;36mRcParams.__setitem__\u001b[0;34m(self, key, val)\u001b[0m\n\u001b[1;32m    723\u001b[0m     \u001b[39mself\u001b[39m\u001b[39m.\u001b[39m_set(key, cval)\n\u001b[1;32m    724\u001b[0m \u001b[39mexcept\u001b[39;00m \u001b[39mKeyError\u001b[39;00m \u001b[39mas\u001b[39;00m err:\n\u001b[0;32m--> 725\u001b[0m     \u001b[39mraise\u001b[39;00m \u001b[39mKeyError\u001b[39;00m(\n\u001b[1;32m    726\u001b[0m         \u001b[39mf\u001b[39m\u001b[39m\"\u001b[39m\u001b[39m{\u001b[39;00mkey\u001b[39m}\u001b[39;00m\u001b[39m is not a valid rc parameter (see rcParams.keys() for \u001b[39m\u001b[39m\"\u001b[39m\n\u001b[1;32m    727\u001b[0m         \u001b[39mf\u001b[39m\u001b[39m\"\u001b[39m\u001b[39ma list of valid parameters)\u001b[39m\u001b[39m\"\u001b[39m) \u001b[39mfrom\u001b[39;00m \u001b[39merr\u001b[39;00m\n",
      "\u001b[0;31mKeyError\u001b[0m: 'fiqure.dpi is not a valid rc parameter (see rcParams.keys() for a list of valid parameters)'"
     ]
    }
   ],
   "source": [
    "import cv2\n",
    "import numpy as np\n",
    "import matplotlib.pyplot as plt\n",
    "\n",
    "\n",
    "\n",
    "\n",
    "plt.figure(figsize=(6.4*5, 4.8*5), constrained_layout=False)\n",
    "\n",
    "img_c1 = cv2.imread(\"f403.jpg\", 0)\n",
    "img_c2 = np.fft.fft2(img_c1)\n",
    "img_c3 = np.fft.fftshift(img_c2)\n",
    "img_c4 = np.fft.ifftshift(img_c3)\n",
    "img_c5 = np.fft.ifft2(img_c4)\n",
    "\n",
    "plt.subplot(151), plt.imshow(img_c1, \"gray\"), plt.title(\"Original Image\")\n",
    "plt.subplot(152), plt.imshow(np.log(1+np.abs(img_c2)), \"gray\"), plt.title(\"Spectrum\")\n",
    "plt.subplot(153), plt.imshow(np.log(1+np.abs(img_c3)), \"gray\"), plt.title(\"Centered Spectrum\")\n",
    "plt.subplot(154), plt.imshow(np.log(1+np.abs(img_c4)), \"gray\"), plt.title(\"Decentralized\")\n",
    "plt.subplot(155), plt.imshow(np.abs(img_c5), \"gray\"), plt.title(\"Processed Image\")\n",
    "\n",
    "plt.show()"
   ]
  },
  {
   "cell_type": "code",
   "execution_count": null,
   "id": "ed03172d",
   "metadata": {},
   "outputs": [],
   "source": []
  }
 ],
 "metadata": {
  "kernelspec": {
   "display_name": "Python 3",
   "language": "python",
   "name": "python3"
  },
  "language_info": {
   "codemirror_mode": {
    "name": "ipython",
    "version": 3
   },
   "file_extension": ".py",
   "mimetype": "text/x-python",
   "name": "python",
   "nbconvert_exporter": "python",
   "pygments_lexer": "ipython3",
   "version": "3.11.3"
  },
  "vscode": {
   "interpreter": {
    "hash": "2f155fbeb9494e5ce992090b8427abe3542dae7719d8ea0d05cb0b78608edd18"
   }
  }
 },
 "nbformat": 4,
 "nbformat_minor": 5
}
