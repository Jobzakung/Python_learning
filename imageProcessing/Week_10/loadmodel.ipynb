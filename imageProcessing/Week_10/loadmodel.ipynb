{
 "cells": [
  {
   "cell_type": "code",
   "execution_count": null,
   "metadata": {},
   "outputs": [],
   "source": [
    "import numpy as np\n",
    "import tensorflow as tf\n",
    "import matplotlib.pyplot as plt\n",
    "import pickle"
   ]
  },
  {
   "cell_type": "code",
   "execution_count": null,
   "metadata": {},
   "outputs": [],
   "source": [
    "data = tf.keras.datasets.cifar10.load_data()\n",
    "(train_data, train_label),(test_data, test_label) = data\n",
    "print(train_data.shape, train_label.shape)\n",
    "print(test_data.shape, test_label.shape)\n",
    "\n",
    "label = [\"airplane\",    \"automobile\",   \"bird\",     \"cat\",  \"deer\",\n",
    "         \"dog\",         \"frog\",         \"horse\",    \"ship\", \"truck\"]"
   ]
  },
  {
   "cell_type": "code",
   "execution_count": null,
   "metadata": {},
   "outputs": [],
   "source": [
    "mymodel = tf.keras.models.load_model(\"imageProcessing/Week_10/resnet_cifar10.h5\")\n",
    "mymodel.summary()"
   ]
  },
  {
   "cell_type": "code",
   "execution_count": null,
   "metadata": {},
   "outputs": [],
   "source": [
    "t = test_data/255.0\n",
    "# img = t[1]\n",
    "idx = np.random.randint(1,10000,1)\n",
    "idx = idx[0]\n",
    "img = t[idx].reshape(1,32,32,3)\n",
    "result = mymodel.predict(img)\n",
    "print(np.argmax(result[0]), test_label[idx][0])\n",
    "\n",
    "img_idx = np.argmax(result[0])\n",
    "plt.figure(figsize=(1,1))\n",
    "plt.imshow(train_data[idx])\n",
    "plt.xlabel(f\"{label[train_label[idx][0]]} {label[img_idx]}\")\n",
    "plt.xticks([])\n",
    "plt.yticks([])\n",
    "plt.show()"
   ]
  }
 ],
 "metadata": {
  "kernelspec": {
   "display_name": "base",
   "language": "python",
   "name": "python3"
  },
  "language_info": {
   "codemirror_mode": {
    "name": "ipython",
    "version": 3
   },
   "file_extension": ".py",
   "mimetype": "text/x-python",
   "name": "python",
   "nbconvert_exporter": "python",
   "pygments_lexer": "ipython3",
   "version": "3.11.3"
  },
  "orig_nbformat": 4
 },
 "nbformat": 4,
 "nbformat_minor": 2
}
