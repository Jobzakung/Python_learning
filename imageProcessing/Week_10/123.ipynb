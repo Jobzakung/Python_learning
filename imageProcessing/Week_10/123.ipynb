{
 "cells": [
  {
   "cell_type": "code",
   "execution_count": null,
   "metadata": {},
   "outputs": [],
   "source": [
    "import numpy as np\n",
    "import tensorflow as tf\n",
    "import matplotlib.pyplot as plt\n",
    "import pickle\n",
    "\n",
    "def load_cifar10_dataset(folder_path):\n",
    "    train_data = []\n",
    "    train_labels = []\n",
    "\n",
    "    for i in range(1, 6):\n",
    "        with open(f\"{folder_path}/data_batch_{i}\", 'rb') as f:\n",
    "            data = pickle.load(f, encoding='bytes')\n",
    "            train_data.append(data[b'data'])\n",
    "            train_labels.extend(data[b'labels'])\n",
    "\n",
    "    with open(f\"{folder_path}/test_batch\", 'rb') as f:\n",
    "        test_data = pickle.load(f, encoding='bytes')\n",
    "        test_images = test_data[b'data']\n",
    "        test_labels = test_data[b'labels']\n",
    "\n",
    "    train_images = np.vstack(train_data).reshape(-1, 3, 32, 32).transpose(0, 2, 3, 1)\n",
    "    \n",
    "    return train_images, np.array(train_labels), test_images.reshape(-1, 3, 32, 32).transpose(0, 2, 3, 1), np.array(test_labels)\n",
    "\n",
    "# Specify the folder path where your CIFAR-10 dataset is located\n",
    "cifar10_folder = \"./imageProcessing/Week_10/cifar-10-batches-py\"\n",
    "\n",
    "# Load the dataset\n",
    "train_images, train_labels, test_images, test_labels = load_cifar10_dataset(cifar10_folder)\n",
    "\n",
    "label = [\"airplane\",    \"automobile\",   \"bird\",     \"cat\",  \"deer\",\n",
    "         \"dog\",         \"frog\",         \"horse\",    \"ship\", \"truck\"]\n",
    "\n",
    "\n",
    "mymodel = tf.keras.models.load_model(\"imageProcessing/Week_10/resnet_cifar10.h5\")\n",
    "mymodel.summary()\n",
    "t = test_images/255.0\n",
    "# img = t[1]\n",
    "idx = np.random.randint(1,10000,1)\n",
    "idx = idx[0]\n",
    "img = t[idx].reshape(1,32,32,3)\n",
    "result = mymodel.predict(img)\n",
    "print(np.argmax(result[0]), test_labels[idx][0])\n",
    "\n",
    "img_idx = np.argmax(result[0])\n",
    "plt.figure(figsize=(1,1))\n",
    "plt.imshow(train_images[idx])\n",
    "plt.xlabel(f\"{label[train_labels[idx][0]]} {label[img_idx]}\")\n",
    "plt.xticks([])\n",
    "plt.yticks([])\n",
    "plt.show()"
   ]
  }
 ],
 "metadata": {
  "kernelspec": {
   "display_name": "Python 3",
   "language": "python",
   "name": "python3"
  },
  "language_info": {
   "name": "python",
   "version": "3.11.3"
  },
  "orig_nbformat": 4
 },
 "nbformat": 4,
 "nbformat_minor": 2
}
