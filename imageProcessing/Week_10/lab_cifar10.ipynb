{
 "cells": [
  {
   "cell_type": "code",
   "execution_count": 16,
   "metadata": {},
   "outputs": [],
   "source": [
    "import numpy as np\n",
    "import tensorflow as tf\n",
    "import matplotlib.pyplot as plt"
   ]
  },
  {
   "cell_type": "code",
   "execution_count": 17,
   "metadata": {},
   "outputs": [
    {
     "name": "stdout",
     "output_type": "stream",
     "text": [
      "(50000, 32, 32, 3) (50000, 1)\n",
      "(10000, 32, 32, 3) (10000, 1)\n"
     ]
    }
   ],
   "source": [
    "data = tf.keras.datasets.cifar10.load_data()\n",
    "(train_data, train_label),(test_data, test_label) = data\n",
    "print(train_data.shape, train_label.shape)\n",
    "print(test_data.shape, test_label.shape)"
   ]
  },
  {
   "cell_type": "code",
   "execution_count": 18,
   "metadata": {},
   "outputs": [],
   "source": [
    "label = [\"airplane\",    \"automobile\",   \"bird\",     \"cat\",  \"deer\",\n",
    "         \"dog\",         \"frog\",         \"horse\",    \"ship\", \"truck\"]"
   ]
  },
  {
   "cell_type": "code",
   "execution_count": 19,
   "metadata": {},
   "outputs": [
    {
     "data": {
      "image/png": "[encoded data removed]",
      "text/plain": [
       "<Figure size 72x72 with 1 Axes>"
      ]
     },
     "metadata": {},
     "output_type": "display_data"
    }
   ],
   "source": [
    "idx = 150\n",
    "plt.figure(figsize=(1,1))\n",
    "plt.imshow(train_data[idx])\n",
    "plt.xlabel(label[train_label[idx][0]])\n",
    "plt.xticks([])\n",
    "plt.yticks([])\n",
    "plt.show()"
   ]
  },
  {
   "cell_type": "code",
   "execution_count": 24,
   "metadata": {},
   "outputs": [],
   "source": [
    "y_train = tf.keras.utils.to_categorical(train_label,10)\n",
    "y_test = tf.keras.utils.to_categorical(test_label,  10)\n",
    "x_train = train_data/255.0\n",
    "x_test = test_data/255.0"
   ]
  },
  {
   "cell_type": "code",
   "execution_count": 25,
   "metadata": {},
   "outputs": [
    {
     "name": "stdout",
     "output_type": "stream",
     "text": [
      "[0. 0. 0. 0. 0. 0. 1. 0. 0. 0.]\n"
     ]
    }
   ],
   "source": [
    "print(y_train[0])"
   ]
  },
  {
   "cell_type": "code",
   "execution_count": 27,
   "metadata": {},
   "outputs": [
    {
     "name": "stdout",
     "output_type": "stream",
     "text": [
      "Model: \"sequential_1\"\n",
      "_________________________________________________________________\n",
      " Layer (type)                Output Shape              Param #   \n",
      "=================================================================\n",
      " conv2d_3 (Conv2D)           (None, 16, 16, 32)        2432      \n",
      "                                                                 \n",
      " max_pooling2d_3 (MaxPooling  (None, 8, 8, 32)         0         \n",
      " 2D)                                                             \n",
      "                                                                 \n",
      " conv2d_4 (Conv2D)           (None, 4, 4, 32)          25632     \n",
      "                                                                 \n",
      " max_pooling2d_4 (MaxPooling  (None, 2, 2, 32)         0         \n",
      " 2D)                                                             \n",
      "                                                                 \n",
      " conv2d_5 (Conv2D)           (None, 2, 2, 128)         36992     \n",
      "                                                                 \n",
      " max_pooling2d_5 (MaxPooling  (None, 1, 1, 128)        0         \n",
      " 2D)                                                             \n",
      "                                                                 \n",
      " flatten_1 (Flatten)         (None, 128)               0         \n",
      "                                                                 \n",
      " dense_2 (Dense)             (None, 64)                8256      \n",
      "                                                                 \n",
      " dense_3 (Dense)             (None, 10)                650       \n",
      "                                                                 \n",
      "=================================================================\n",
      "Total params: 73,962\n",
      "Trainable params: 73,962\n",
      "Non-trainable params: 0\n",
      "_________________________________________________________________\n"
     ]
    }
   ],
   "source": [
    "model = tf.keras.Sequential()\n",
    "model.add(tf.keras.layers.Conv2D(input_shape=(32,32,3),filters=32,\n",
    "                                 kernel_size=(5,5),strides=(2,2),padding=\"same\", kernel_initializer=\"he_uniform\",\n",
    "                                 activation=tf.keras.activations.relu))\n",
    "model.add(tf.keras.layers.MaxPool2D(pool_size=(2,2)))\n",
    "\n",
    "model.add(tf.keras.layers.Conv2D(filters=32,\n",
    "                                 kernel_size=(5,5),strides=(2,2),padding=\"same\", kernel_initializer=\"he_uniform\",\n",
    "                                 activation=tf.keras.activations.relu))\n",
    "model.add(tf.keras.layers.MaxPool2D(pool_size=(2,2)))\n",
    "\n",
    "model.add(tf.keras.layers.Conv2D(filters=128,\n",
    "                                 kernel_size=(3,3),strides=(1,1),padding=\"same\", kernel_initializer=\"he_uniform\",\n",
    "                                 activation=tf.keras.activations.relu))\n",
    "model.add(tf.keras.layers.MaxPool2D(pool_size=(2,2)))\n",
    "\n",
    "model.add(tf.keras.layers.Flatten())\n",
    "model.add(tf.keras.layers.Dense(64,activation='relu'))\n",
    "model.add(tf.keras.layers.Dense(10,activation='softmax'))\n",
    "model.summary()"
   ]
  },
  {
   "cell_type": "code",
   "execution_count": 29,
   "metadata": {},
   "outputs": [],
   "source": [
    "model.compile(loss=tf.keras.losses.categorical_crossentropy, \n",
    "              optimizer=tf.keras.optimizers.Adam(learning_rate=0.001),\n",
    "              metrics=['accuracy'])"
   ]
  },
  {
   "cell_type": "code",
   "execution_count": 36,
   "metadata": {},
   "outputs": [
    {
     "name": "stdout",
     "output_type": "stream",
     "text": [
      "50000/50000 [==============================] - 93s 2ms/step - loss: 2.3093 - accuracy: 0.0984\n"
     ]
    },
    {
     "data": {
      "text/plain": [
       "<keras.callbacks.History at 0x15126fcf220>"
      ]
     },
     "execution_count": 36,
     "metadata": {},
     "output_type": "execute_result"
    }
   ],
   "source": [
    "model.fit(x_train, y_train, epochs=1, batch_size=1)\n"
   ]
  },
  {
   "cell_type": "code",
   "execution_count": 37,
   "metadata": {},
   "outputs": [
    {
     "name": "stdout",
     "output_type": "stream",
     "text": [
      "Epoch 1/20\n",
      "80/80 [==============================] - 5s 64ms/step - loss: 2.3029 - accuracy: 0.1012 - val_loss: 2.3031 - val_accuracy: 0.0952\n",
      "Epoch 2/20\n",
      "80/80 [==============================] - 5s 58ms/step - loss: 2.3028 - accuracy: 0.1012 - val_loss: 2.3031 - val_accuracy: 0.0952\n",
      "Epoch 3/20\n",
      "80/80 [==============================] - 5s 59ms/step - loss: 2.3028 - accuracy: 0.1012 - val_loss: 2.3031 - val_accuracy: 0.0952\n",
      "Epoch 4/20\n",
      "80/80 [==============================] - 4s 55ms/step - loss: 2.3028 - accuracy: 0.1012 - val_loss: 2.3031 - val_accuracy: 0.0952\n",
      "Epoch 5/20\n",
      "80/80 [==============================] - 4s 55ms/step - loss: 2.3028 - accuracy: 0.1012 - val_loss: 2.3031 - val_accuracy: 0.0952\n",
      "Epoch 6/20\n",
      "80/80 [==============================] - 5s 59ms/step - loss: 2.3028 - accuracy: 0.1012 - val_loss: 2.3030 - val_accuracy: 0.0952\n",
      "Epoch 7/20\n",
      "80/80 [==============================] - 4s 56ms/step - loss: 2.3028 - accuracy: 0.1012 - val_loss: 2.3030 - val_accuracy: 0.0952\n",
      "Epoch 8/20\n",
      "80/80 [==============================] - 4s 55ms/step - loss: 2.3028 - accuracy: 0.1012 - val_loss: 2.3030 - val_accuracy: 0.0952\n",
      "Epoch 9/20\n",
      "80/80 [==============================] - 5s 57ms/step - loss: 2.3027 - accuracy: 0.1012 - val_loss: 2.3030 - val_accuracy: 0.0952\n",
      "Epoch 10/20\n",
      "80/80 [==============================] - 5s 57ms/step - loss: 2.3027 - accuracy: 0.1012 - val_loss: 2.3030 - val_accuracy: 0.0952\n",
      "Epoch 11/20\n",
      "80/80 [==============================] - 4s 56ms/step - loss: 2.3027 - accuracy: 0.1012 - val_loss: 2.3030 - val_accuracy: 0.0952\n",
      "Epoch 12/20\n",
      "80/80 [==============================] - 4s 55ms/step - loss: 2.3027 - accuracy: 0.1012 - val_loss: 2.3029 - val_accuracy: 0.0952\n",
      "Epoch 13/20\n",
      "80/80 [==============================] - 5s 60ms/step - loss: 2.3027 - accuracy: 0.1012 - val_loss: 2.3029 - val_accuracy: 0.0952\n",
      "Epoch 14/20\n",
      "80/80 [==============================] - 5s 57ms/step - loss: 2.3027 - accuracy: 0.1012 - val_loss: 2.3029 - val_accuracy: 0.0952\n",
      "Epoch 15/20\n",
      "80/80 [==============================] - 4s 56ms/step - loss: 2.3027 - accuracy: 0.1012 - val_loss: 2.3029 - val_accuracy: 0.0952\n",
      "Epoch 16/20\n",
      "80/80 [==============================] - 5s 57ms/step - loss: 2.3027 - accuracy: 0.1012 - val_loss: 2.3029 - val_accuracy: 0.0952\n",
      "Epoch 17/20\n",
      "80/80 [==============================] - 4s 56ms/step - loss: 2.3027 - accuracy: 0.1012 - val_loss: 2.3029 - val_accuracy: 0.0952\n",
      "Epoch 18/20\n",
      "80/80 [==============================] - 4s 54ms/step - loss: 2.3026 - accuracy: 0.1012 - val_loss: 2.3029 - val_accuracy: 0.0952\n",
      "Epoch 19/20\n",
      "80/80 [==============================] - 4s 56ms/step - loss: 2.3026 - accuracy: 0.1012 - val_loss: 2.3028 - val_accuracy: 0.0952\n",
      "Epoch 20/20\n",
      "80/80 [==============================] - 5s 58ms/step - loss: 2.3026 - accuracy: 0.1012 - val_loss: 2.3028 - val_accuracy: 0.0952\n"
     ]
    },
    {
     "name": "stderr",
     "output_type": "stream",
     "text": [
      "No artists with labels found to put in legend.  Note that artists whose label start with an underscore are ignored when legend() is called with no argument.\n"
     ]
    },
    {
     "data": {
      "image/png": "[encoded data removed]",
      "text/plain": [
       "<Figure size 432x288 with 1 Axes>"
      ]
     },
     "metadata": {
      "needs_background": "light"
     },
     "output_type": "display_data"
    }
   ],
   "source": [
    "model.fit(x_train, y_train, epochs=20, batch_size=500, shuffle=True, validation_split=0.2)\n",
    "plt.plot(model.history.history[\"accuracy\"])\n",
    "plt.plot(model.history.history[\"val_accuracy\"])\n",
    "plt.legend(loc=\"upper center\", bbox_to_anchor=(0.5, -0.05), ncol=2)\n",
    "plt.show()"
   ]
  },
  {
   "cell_type": "code",
   "execution_count": 35,
   "metadata": {},
   "outputs": [
    {
     "name": "stdout",
     "output_type": "stream",
     "text": [
      "Epoch 1/50\n",
      "50/50 [==============================] - 5s 102ms/step - loss: 0.5585 - accuracy: 0.8398\n",
      "Epoch 2/50\n",
      "50/50 [==============================] - 5s 107ms/step - loss: 0.4978 - accuracy: 0.8549\n",
      "Epoch 3/50\n",
      "50/50 [==============================] - 5s 104ms/step - loss: 0.4691 - accuracy: 0.8603\n",
      "Epoch 4/50\n",
      "50/50 [==============================] - 5s 104ms/step - loss: 0.4503 - accuracy: 0.8635\n",
      "Epoch 5/50\n",
      "50/50 [==============================] - 5s 108ms/step - loss: 0.4335 - accuracy: 0.8671\n",
      "Epoch 6/50\n",
      "50/50 [==============================] - 5s 104ms/step - loss: 0.4244 - accuracy: 0.8693\n",
      "Epoch 7/50\n",
      "50/50 [==============================] - 5s 106ms/step - loss: 0.4137 - accuracy: 0.8720\n",
      "Epoch 8/50\n",
      "50/50 [==============================] - 5s 106ms/step - loss: 0.4018 - accuracy: 0.8758\n",
      "Epoch 9/50\n",
      "50/50 [==============================] - 5s 101ms/step - loss: 0.3976 - accuracy: 0.8760\n",
      "Epoch 10/50\n",
      "50/50 [==============================] - 5s 100ms/step - loss: 0.3885 - accuracy: 0.8783\n",
      "Epoch 11/50\n",
      "50/50 [==============================] - 5s 102ms/step - loss: 0.3813 - accuracy: 0.8811\n",
      "Epoch 12/50\n",
      "50/50 [==============================] - 5s 102ms/step - loss: 0.3718 - accuracy: 0.8847\n",
      "Epoch 13/50\n",
      "50/50 [==============================] - 5s 99ms/step - loss: 0.3654 - accuracy: 0.8876\n",
      "Epoch 14/50\n",
      "50/50 [==============================] - 5s 102ms/step - loss: 0.3581 - accuracy: 0.8898\n",
      "Epoch 15/50\n",
      "50/50 [==============================] - 5s 103ms/step - loss: 0.3527 - accuracy: 0.8912\n",
      "Epoch 16/50\n",
      "50/50 [==============================] - 5s 101ms/step - loss: 0.3458 - accuracy: 0.8927\n",
      "Epoch 17/50\n",
      "50/50 [==============================] - 5s 102ms/step - loss: 0.3440 - accuracy: 0.8934\n",
      "Epoch 18/50\n",
      "50/50 [==============================] - 5s 106ms/step - loss: 0.3373 - accuracy: 0.8956\n",
      "Epoch 19/50\n",
      "50/50 [==============================] - 5s 106ms/step - loss: 0.3305 - accuracy: 0.8987\n",
      "Epoch 20/50\n",
      "50/50 [==============================] - 5s 106ms/step - loss: 0.3266 - accuracy: 0.8997\n",
      "Epoch 21/50\n",
      "50/50 [==============================] - 5s 109ms/step - loss: 0.3215 - accuracy: 0.9003\n",
      "Epoch 22/50\n",
      "50/50 [==============================] - 5s 101ms/step - loss: 0.3160 - accuracy: 0.9036\n",
      "Epoch 23/50\n",
      "50/50 [==============================] - 5s 106ms/step - loss: 0.3098 - accuracy: 0.9056\n",
      "Epoch 24/50\n",
      "50/50 [==============================] - 5s 108ms/step - loss: 0.3052 - accuracy: 0.9074\n",
      "Epoch 25/50\n",
      "50/50 [==============================] - 5s 103ms/step - loss: 0.3024 - accuracy: 0.9075\n",
      "Epoch 26/50\n",
      "50/50 [==============================] - 5s 103ms/step - loss: 0.2959 - accuracy: 0.9102\n",
      "Epoch 27/50\n",
      "50/50 [==============================] - 5s 109ms/step - loss: 0.2928 - accuracy: 0.9119\n",
      "Epoch 28/50\n",
      "50/50 [==============================] - 5s 104ms/step - loss: 0.2859 - accuracy: 0.9131\n",
      "Epoch 29/50\n",
      "50/50 [==============================] - 5s 105ms/step - loss: 0.2816 - accuracy: 0.9156\n",
      "Epoch 30/50\n",
      "50/50 [==============================] - 5s 109ms/step - loss: 0.2793 - accuracy: 0.9155\n",
      "Epoch 31/50\n",
      "50/50 [==============================] - 5s 104ms/step - loss: 0.2736 - accuracy: 0.9182\n",
      "Epoch 32/50\n",
      "50/50 [==============================] - 5s 105ms/step - loss: 0.2678 - accuracy: 0.9201\n",
      "Epoch 33/50\n",
      "50/50 [==============================] - 5s 109ms/step - loss: 0.2658 - accuracy: 0.9200\n",
      "Epoch 34/50\n",
      "50/50 [==============================] - 5s 103ms/step - loss: 0.2599 - accuracy: 0.9223\n",
      "Epoch 35/50\n",
      "50/50 [==============================] - 5s 104ms/step - loss: 0.2588 - accuracy: 0.9227\n",
      "Epoch 36/50\n",
      "50/50 [==============================] - 5s 109ms/step - loss: 0.2554 - accuracy: 0.9235\n",
      "Epoch 37/50\n",
      "50/50 [==============================] - 5s 103ms/step - loss: 0.2518 - accuracy: 0.9247\n",
      "Epoch 38/50\n",
      "50/50 [==============================] - 5s 103ms/step - loss: 0.2523 - accuracy: 0.9248\n",
      "Epoch 39/50\n",
      "50/50 [==============================] - 6s 112ms/step - loss: 0.2419 - accuracy: 0.9283\n",
      "Epoch 40/50\n",
      "50/50 [==============================] - 5s 104ms/step - loss: 0.2392 - accuracy: 0.9289\n",
      "Epoch 41/50\n",
      "50/50 [==============================] - 5s 104ms/step - loss: 0.2328 - accuracy: 0.9313\n",
      "Epoch 42/50\n",
      "50/50 [==============================] - 6s 110ms/step - loss: 0.2288 - accuracy: 0.9331\n",
      "Epoch 43/50\n",
      "50/50 [==============================] - 5s 104ms/step - loss: 0.2279 - accuracy: 0.9328\n",
      "Epoch 44/50\n",
      "50/50 [==============================] - 5s 104ms/step - loss: 0.2217 - accuracy: 0.9359\n",
      "Epoch 45/50\n",
      "50/50 [==============================] - 6s 111ms/step - loss: 0.2172 - accuracy: 0.9374\n",
      "Epoch 46/50\n",
      "50/50 [==============================] - 5s 103ms/step - loss: 0.2185 - accuracy: 0.9357\n",
      "Epoch 47/50\n",
      "50/50 [==============================] - 5s 106ms/step - loss: 0.2159 - accuracy: 0.9369\n",
      "Epoch 48/50\n",
      "50/50 [==============================] - 5s 107ms/step - loss: 0.2082 - accuracy: 0.9406\n",
      "Epoch 49/50\n",
      "50/50 [==============================] - 5s 101ms/step - loss: 0.2026 - accuracy: 0.9421\n",
      "Epoch 50/50\n",
      "50/50 [==============================] - 5s 101ms/step - loss: 0.2035 - accuracy: 0.9413\n"
     ]
    },
    {
     "data": {
      "text/plain": [
       "<keras.callbacks.History at 0x151263765e0>"
      ]
     },
     "execution_count": 35,
     "metadata": {},
     "output_type": "execute_result"
    }
   ],
   "source": [
    "model.fit(x_train, y_train, epochs=50, batch_size=1000, shuffle=True)"
   ]
  },
  {
   "cell_type": "code",
   "execution_count": null,
   "metadata": {},
   "outputs": [],
   "source": [
    "tf.keras.models.save_model(model,\"mymodel.h5\")"
   ]
  }
 ],
 "metadata": {
  "kernelspec": {
   "display_name": "base",
   "language": "python",
   "name": "python3"
  },
  "language_info": {
   "codemirror_mode": {
    "name": "ipython",
    "version": 3
   },
   "file_extension": ".py",
   "mimetype": "text/x-python",
   "name": "python",
   "nbconvert_exporter": "python",
   "pygments_lexer": "ipython3",
   "version": "3.9.12"
  },
  "orig_nbformat": 4
 },
 "nbformat": 4,
 "nbformat_minor": 2
}
